{
 "cells": [
  {
   "cell_type": "code",
   "execution_count": 2,
   "id": "ac051c99-e344-4549-85a3-6e0e3f9969e4",
   "metadata": {},
   "outputs": [],
   "source": [
    "## Handling outliers"
   ]
  },
  {
   "cell_type": "raw",
   "id": "2159085c-ed48-4622-b314-f53b589ce419",
   "metadata": {},
   "source": [
    "## 5 number Summary\n",
    "\n",
    "1. Minimum Value\n",
    "2. Q1-25 percentile\n",
    "3. median\n",
    "4. Q3- 75 percentile\n",
    "5. maximum"
   ]
  },
  {
   "cell_type": "code",
   "execution_count": 3,
   "id": "30e4a583-aa94-42c3-afaa-9e9f700d80e6",
   "metadata": {},
   "outputs": [],
   "source": [
    "import numpy as np"
   ]
  },
  {
   "cell_type": "code",
   "execution_count": 4,
   "id": "37a65320-980c-4abf-a84f-6edd59b68326",
   "metadata": {},
   "outputs": [],
   "source": [
    "lst_marks=[45,23,54,65,64,76,58,34,75,97,86,13,1000,1100]"
   ]
  },
  {
   "cell_type": "code",
   "execution_count": 7,
   "id": "1825c7f2-9a83-4745-8f05-fb67606b723d",
   "metadata": {},
   "outputs": [
    {
     "data": {
      "text/plain": [
       "array([47.25])"
      ]
     },
     "execution_count": 7,
     "metadata": {},
     "output_type": "execute_result"
    }
   ],
   "source": [
    "np.percentile(lst_marks,[25])"
   ]
  },
  {
   "cell_type": "code",
   "execution_count": 8,
   "id": "e9615520-c406-49de-8741-0e9705d6ccbc",
   "metadata": {},
   "outputs": [
    {
     "data": {
      "text/plain": [
       "array([64.5])"
      ]
     },
     "execution_count": 8,
     "metadata": {},
     "output_type": "execute_result"
    }
   ],
   "source": [
    "np.percentile(lst_marks,[50])"
   ]
  },
  {
   "cell_type": "code",
   "execution_count": 9,
   "id": "48cc6583-3ada-4e17-b659-746f77feed28",
   "metadata": {},
   "outputs": [
    {
     "data": {
      "text/plain": [
       "array([83.5])"
      ]
     },
     "execution_count": 9,
     "metadata": {},
     "output_type": "execute_result"
    }
   ],
   "source": [
    "np.percentile(lst_marks,[75])"
   ]
  },
  {
   "cell_type": "code",
   "execution_count": 10,
   "id": "aea9393b-7ac4-409d-b934-0a93bee82639",
   "metadata": {},
   "outputs": [],
   "source": [
    "## [Lower Fence<-------> Higher Fence]"
   ]
  },
  {
   "cell_type": "code",
   "execution_count": 11,
   "id": "f61aa245-bd50-40b5-9c87-e81857afb090",
   "metadata": {},
   "outputs": [
    {
     "name": "stdout",
     "output_type": "stream",
     "text": [
      "[47.25]\n"
     ]
    }
   ],
   "source": [
    "Q1=np.percentile(lst_marks,[25])\n",
    "print(Q1)"
   ]
  },
  {
   "cell_type": "code",
   "execution_count": 12,
   "id": "78b3b8b3-c0a7-4219-8291-fbad3d27778d",
   "metadata": {},
   "outputs": [],
   "source": [
    "minimum, Q1, Q2, Q3, maximum=np.quantile(lst_marks,[0,0.25,0.50,0.75,1.0])"
   ]
  },
  {
   "cell_type": "code",
   "execution_count": 14,
   "id": "cf255199-4364-4791-b6c7-dda1d710375c",
   "metadata": {},
   "outputs": [
    {
     "name": "stdout",
     "output_type": "stream",
     "text": [
      "36.25\n"
     ]
    }
   ],
   "source": [
    "IQR=Q3-Q1\n",
    "print(IQR)"
   ]
  },
  {
   "cell_type": "code",
   "execution_count": 17,
   "id": "f3e2e5ad-e1e1-4af2-b8db-5038adcf1185",
   "metadata": {},
   "outputs": [],
   "source": [
    "lower_fence=Q1-1.5*(IQR)\n",
    "higher_fence=Q3+1.5*(IQR)"
   ]
  },
  {
   "cell_type": "code",
   "execution_count": 18,
   "id": "ea9ce906-f00e-41e0-8fea-ed2fbaeb3330",
   "metadata": {},
   "outputs": [
    {
     "data": {
      "text/plain": [
       "(-7.125, 137.875)"
      ]
     },
     "execution_count": 18,
     "metadata": {},
     "output_type": "execute_result"
    }
   ],
   "source": [
    "lower_fence,higher_fence"
   ]
  },
  {
   "cell_type": "code",
   "execution_count": 19,
   "id": "948d7636-eb92-4c90-9b8d-0bf0a2957f78",
   "metadata": {},
   "outputs": [
    {
     "name": "stdout",
     "output_type": "stream",
     "text": [
      "This element is not outlier\n",
      "This element is not outlier\n",
      "This element is not outlier\n",
      "This element is not outlier\n",
      "This element is not outlier\n",
      "This element is not outlier\n",
      "This element is not outlier\n",
      "This element is not outlier\n",
      "This element is not outlier\n",
      "This element is not outlier\n",
      "This element is not outlier\n",
      "This element is not outlier\n"
     ]
    }
   ],
   "source": [
    "outliers=[]\n",
    "for i in lst_marks:\n",
    "    if i>=-7.125 and i<=137.875:\n",
    "        print(\"This element is not outlier\")\n",
    "    else:\n",
    "        outliers.append(i)"
   ]
  },
  {
   "cell_type": "code",
   "execution_count": 20,
   "id": "6daf3dc6-f6ec-4ff4-bf02-0a7757b7001e",
   "metadata": {},
   "outputs": [
    {
     "data": {
      "text/plain": [
       "[1000, 1100]"
      ]
     },
     "execution_count": 20,
     "metadata": {},
     "output_type": "execute_result"
    }
   ],
   "source": [
    "outliers"
   ]
  },
  {
   "cell_type": "code",
   "execution_count": 21,
   "id": "6c240487-81d5-4100-8cec-75bdd6f34256",
   "metadata": {},
   "outputs": [],
   "source": [
    "import seaborn as sns"
   ]
  },
  {
   "cell_type": "code",
   "execution_count": 22,
   "id": "64547e18-ac49-49b4-8fe1-57a6b4c92746",
   "metadata": {},
   "outputs": [
    {
     "data": {
      "text/plain": [
       "<AxesSubplot: >"
      ]
     },
     "execution_count": 22,
     "metadata": {},
     "output_type": "execute_result"
    },
    {
     "data": {
      "image/png": "[encoded data removed]",
      "text/plain": [
       "<Figure size 640x480 with 1 Axes>"
      ]
     },
     "metadata": {},
     "output_type": "display_data"
    }
   ],
   "source": [
    "sns.boxplot(lst_marks)"
   ]
  },
  {
   "cell_type": "code",
   "execution_count": 23,
   "id": "88cbe6fe-f2b3-400b-abab-5cf864c7e36c",
   "metadata": {},
   "outputs": [],
   "source": [
    "lst_marks1=[45,23,54,65,64,76,58,34,75,97,86,83]"
   ]
  },
  {
   "cell_type": "code",
   "execution_count": 24,
   "id": "6cb31009-3339-47a2-95ec-7accfc979451",
   "metadata": {},
   "outputs": [
    {
     "data": {
      "text/plain": [
       "<AxesSubplot: >"
      ]
     },
     "execution_count": 24,
     "metadata": {},
     "output_type": "execute_result"
    },
    {
     "data": {
      "image/png": "[encoded data removed]",
      "text/plain": [
       "<Figure size 640x480 with 1 Axes>"
      ]
     },
     "metadata": {},
     "output_type": "display_data"
    }
   ],
   "source": [
    "sns.boxplot(lst_marks1)"
   ]
  },
  {
   "cell_type": "code",
   "execution_count": null,
   "id": "b0fef990-77cd-40d2-925f-e8056cc8b4fd",
   "metadata": {},
   "outputs": [],
   "source": []
  }
 ],
 "metadata": {
  "kernelspec": {
   "display_name": "Python 3 (ipykernel)",
   "language": "python",
   "name": "python3"
  },
  "language_info": {
   "codemirror_mode": {
    "name": "ipython",
    "version": 3
   },
   "file_extension": ".py",
   "mimetype": "text/x-python",
   "name": "python",
   "nbconvert_exporter": "python",
   "pygments_lexer": "ipython3",
   "version": "3.10.8"
  }
 },
 "nbformat": 4,
 "nbformat_minor": 5
}
